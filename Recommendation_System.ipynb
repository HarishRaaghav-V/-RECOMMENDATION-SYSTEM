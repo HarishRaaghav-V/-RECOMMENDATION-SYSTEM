{
  "nbformat": 4,
  "nbformat_minor": 0,
  "metadata": {
    "colab": {
      "provenance": []
    },
    "kernelspec": {
      "name": "python3",
      "display_name": "Python 3"
    },
    "language_info": {
      "name": "python"
    }
  },
  "cells": [
    {
      "cell_type": "code",
      "source": [
        "\n",
        "!pip install \"numpy<2.0\" --quiet\n",
        "import os\n",
        "os.kill(os.getpid(), 9)\n"
      ],
      "metadata": {
        "id": "i0DbwWWLX1Os"
      },
      "execution_count": null,
      "outputs": []
    },
    {
      "cell_type": "code",
      "source": [
        "import pandas as pd\n",
        "from surprise import SVD, Dataset, Reader\n",
        "from surprise.model_selection import train_test_split\n",
        "from surprise import accuracy"
      ],
      "metadata": {
        "id": "SP-uy_c2X1j8"
      },
      "execution_count": 1,
      "outputs": []
    },
    {
      "cell_type": "code",
      "source": [
        "import pandas as pd\n",
        "from sklearn.preprocessing import MinMaxScaler\n",
        "from sklearn.metrics.pairwise import cosine_similarity\n",
        "\n",
        "# S\n",
        "df_places = pd.read_csv(\"dataset.csv\")\n",
        "\n",
        "\n",
        "df_subset = df_places.head(1000)\n",
        "\n",
        "features = df_subset[['age', 'balance', 'duration', 'campaign', 'pdays', 'previous']].copy()\n",
        "\n",
        "\n",
        "scaler = MinMaxScaler()\n",
        "features_scaled = scaler.fit_transform(features)\n",
        "\n",
        "\n",
        "similarity_matrix = cosine_similarity(features_scaled)\n",
        "\n",
        "def recommend_similar_customers(index, top_n=5):\n",
        "    if index >= len(df_subset):\n",
        "        return f\"Index {index} is out of bounds.\"\n",
        "\n",
        "\n",
        "    similar_indices = similarity_matrix[index].argsort()[::-1][1:top_n+1]\n",
        "\n",
        "\n",
        "    recommended = df_subset.iloc[similar_indices][['age', 'job', 'balance', 'duration']]\n",
        "    return recommended.reset_index(drop=True)\n",
        "\n",
        "\n",
        "example_index = 0\n",
        "print(f\"Top 5 customers similar to index {example_index}:\")\n",
        "print(recommend_similar_customers(example_index))\n"
      ],
      "metadata": {
        "colab": {
          "base_uri": "https://localhost:8080/"
        },
        "id": "xonLtNNebowr",
        "outputId": "d5bf5a85-16f6-457d-e3a8-91d23b37f7d0"
      },
      "execution_count": 7,
      "outputs": [
        {
          "output_type": "stream",
          "name": "stdout",
          "text": [
            "Top 5 customers similar to index 0:\n",
            "   age           job  balance  duration\n",
            "0   34        admin.       67        90\n",
            "1   46     housemaid      965       177\n",
            "2   41    technician      871       145\n",
            "3   33  entrepreneur        2        76\n",
            "4   54    technician     1378       240\n"
          ]
        }
      ]
    }
  ]
}